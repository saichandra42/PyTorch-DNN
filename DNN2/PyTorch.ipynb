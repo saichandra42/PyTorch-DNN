{
 "cells": [
  {
   "cell_type": "markdown",
   "id": "fd3d2184",
   "metadata": {},
   "source": [
    "# Imports"
   ]
  },
  {
   "cell_type": "code",
   "execution_count": 1,
   "id": "cd1c9400",
   "metadata": {},
   "outputs": [
    {
     "name": "stdout",
     "output_type": "stream",
     "text": [
      "Requirement already satisfied: torchmetrics in /home/ec2-user/anaconda3/envs/pytorch_latest_p36/lib/python3.6/site-packages (0.6.2)\n",
      "Requirement already satisfied: torch>=1.3.1 in /home/ec2-user/anaconda3/envs/pytorch_latest_p36/lib/python3.6/site-packages (from torchmetrics) (1.7.1)\n",
      "Requirement already satisfied: packaging in /home/ec2-user/anaconda3/envs/pytorch_latest_p36/lib/python3.6/site-packages (from torchmetrics) (21.3)\n",
      "Requirement already satisfied: numpy>=1.17.2 in /home/ec2-user/anaconda3/envs/pytorch_latest_p36/lib/python3.6/site-packages (from torchmetrics) (1.19.2)\n",
      "Requirement already satisfied: typing_extensions in /home/ec2-user/anaconda3/envs/pytorch_latest_p36/lib/python3.6/site-packages (from torch>=1.3.1->torchmetrics) (4.0.1)\n",
      "Requirement already satisfied: dataclasses in /home/ec2-user/anaconda3/envs/pytorch_latest_p36/lib/python3.6/site-packages (from torch>=1.3.1->torchmetrics) (0.8)\n",
      "Requirement already satisfied: pyparsing!=3.0.5,>=2.0.2 in /home/ec2-user/anaconda3/envs/pytorch_latest_p36/lib/python3.6/site-packages (from packaging->torchmetrics) (2.4.7)\n",
      "Note: you may need to restart the kernel to use updated packages.\n"
     ]
    }
   ],
   "source": [
    "pip install torchmetrics"
   ]
  },
  {
   "cell_type": "code",
   "execution_count": 2,
   "id": "b3e4d710",
   "metadata": {},
   "outputs": [],
   "source": [
    "import time\n",
    "import numpy as np\n",
    "import h5py\n",
    "import matplotlib.pyplot as plt\n",
    "import torchmetrics\n",
    "\n",
    "import torch\n",
    "import torchvision\n",
    "import torch.nn as nn\n",
    "\n",
    "from tqdm import tqdm\n",
    "from torch.utils.data import Dataset, DataLoader\n",
    "from dnn_app_utils_v3 import *\n",
    "from collections import OrderedDict\n",
    "%load_ext autoreload\n",
    "%autoreload 2\n",
    "\n",
    "np.random.seed(1)"
   ]
  },
  {
   "cell_type": "code",
   "execution_count": 3,
   "id": "66de1f31",
   "metadata": {},
   "outputs": [],
   "source": [
    "import numpy as np\n",
    "import h5py\n",
    "    \n",
    "def load_dataset():\n",
    "    train_dataset = h5py.File('datasets/train_catvnoncat.h5', \"r\")\n",
    "    train_set_x_orig = np.array(train_dataset[\"train_set_x\"][:]) # your train set features\n",
    "    train_set_y_orig = np.array(train_dataset[\"train_set_y\"][:]) # your train set labels\n",
    "\n",
    "    test_dataset = h5py.File('datasets/test_catvnoncat.h5', \"r\")\n",
    "    test_set_x_orig = np.array(test_dataset[\"test_set_x\"][:]) # your test set features\n",
    "    test_set_y_orig = np.array(test_dataset[\"test_set_y\"][:]) # your test set labels\n",
    "\n",
    "    classes = np.array(test_dataset[\"list_classes\"][:]) # the list of classes\n",
    "    \n",
    "    train_set_y_orig = train_set_y_orig.reshape((1, train_set_y_orig.shape[0]))\n",
    "    test_set_y_orig = test_set_y_orig.reshape((1, test_set_y_orig.shape[0]))\n",
    "    \n",
    "    return train_set_x_orig, np.transpose(train_set_y_orig), test_set_x_orig, np.transpose(test_set_y_orig), classes\n"
   ]
  },
  {
   "cell_type": "code",
   "execution_count": 4,
   "id": "1eb9e54b",
   "metadata": {},
   "outputs": [],
   "source": [
    "train_x, train_y, test_x, test_y, classes = load_dataset()"
   ]
  },
  {
   "cell_type": "code",
   "execution_count": 5,
   "id": "07c42aff",
   "metadata": {},
   "outputs": [
    {
     "name": "stdout",
     "output_type": "stream",
     "text": [
      "Train x shape is - (209, 64, 64, 3), Train y shape is - (209, 1)\n",
      "Test x shape is - (50, 64, 64, 3), Test y shape is - (50, 1)\n"
     ]
    }
   ],
   "source": [
    "print(f'Train x shape is - {train_x.shape}, Train y shape is - {train_y.shape}')\n",
    "print(f'Test x shape is - {test_x.shape}, Test y shape is - {test_y.shape}')"
   ]
  },
  {
   "cell_type": "markdown",
   "id": "4435daa7",
   "metadata": {},
   "source": [
    "# EDA"
   ]
  },
  {
   "cell_type": "code",
   "execution_count": 6,
   "id": "54b9e22e",
   "metadata": {},
   "outputs": [
    {
     "name": "stdout",
     "output_type": "stream",
     "text": [
      "y = 1. It's a cat picture.\n"
     ]
    },
    {
     "data": {
      "image/png": "[encoded data removed]",
      "text/plain": [
       "<Figure size 432x288 with 1 Axes>"
      ]
     },
     "metadata": {
      "needs_background": "light"
     },
     "output_type": "display_data"
    }
   ],
   "source": [
    "# Example of a picture\n",
    "index = 25\n",
    "plt.imshow(train_x[index])\n",
    "print (\"y = \" + str(train_y[index,0]) + \". It's a \" + classes[train_y[index,0]].decode(\"utf-8\") +  \" picture.\")"
   ]
  },
  {
   "cell_type": "markdown",
   "id": "c106fa63",
   "metadata": {},
   "source": [
    "# Dataset loading"
   ]
  },
  {
   "cell_type": "code",
   "execution_count": 7,
   "id": "bc5d5146",
   "metadata": {},
   "outputs": [],
   "source": [
    "class CatorNotCatDataset(Dataset):\n",
    "    def __init__(self,x,y):\n",
    "        self.x = x\n",
    "        self.y = y\n",
    "        \n",
    "    def __getitem__(self,index):\n",
    "        image = torch.from_numpy(self.x[index].reshape(-1,)/255).float()\n",
    "        label = torch.from_numpy(self.y[index].reshape(1,)).float()\n",
    "        return image,label\n",
    "        \n",
    "    def __len__(self):\n",
    "        return len(self.x)"
   ]
  },
  {
   "cell_type": "code",
   "execution_count": 8,
   "id": "e7510a44",
   "metadata": {},
   "outputs": [],
   "source": [
    "train_dataset = CatorNotCatDataset(train_x,train_y)\n",
    "test_dataset =  CatorNotCatDataset(test_x,test_y)"
   ]
  },
  {
   "cell_type": "code",
   "execution_count": 9,
   "id": "02656087",
   "metadata": {},
   "outputs": [],
   "source": [
    "class DNN(nn.Module):\n",
    "    def __init__(self,n_input_features):\n",
    "        super().__init__()\n",
    "        self.n_input_features = n_input_features\n",
    "        self.model = nn.Sequential(OrderedDict([\n",
    "          ('Linear1', nn.Linear(n_input_features,1)),\n",
    "          ('Sigmoid1', nn.ReLU())\n",
    "        ]))\n",
    "        \n",
    "    def forward(self,x):\n",
    "        model_output = self.model(x.reshape(-1,self.n_input_features))\n",
    "        return model_output"
   ]
  },
  {
   "cell_type": "code",
   "execution_count": 10,
   "id": "18e50ba6",
   "metadata": {},
   "outputs": [],
   "source": [
    "model = DNN(train_dataset[0][0].shape[0])"
   ]
  },
  {
   "cell_type": "code",
   "execution_count": 11,
   "id": "80200d52",
   "metadata": {},
   "outputs": [
    {
     "data": {
      "text/plain": [
       "tensor([[0.]], grad_fn=<ReluBackward0>)"
      ]
     },
     "execution_count": 11,
     "metadata": {},
     "output_type": "execute_result"
    }
   ],
   "source": [
    "sample = train_dataset[0][0]\n",
    "model.forward(sample)"
   ]
  },
  {
   "cell_type": "markdown",
   "id": "96a66d2b",
   "metadata": {},
   "source": [
    "# Model Parameters and data loader"
   ]
  },
  {
   "cell_type": "code",
   "execution_count": 12,
   "id": "fa1fc8f5",
   "metadata": {},
   "outputs": [],
   "source": [
    "learning_rate = 0.001\n",
    "criterion = torch.nn.BCELoss()\n",
    "optimizer = torch.optim.SGD(model.parameters(), lr=learning_rate)\n",
    "num_epochs = 50"
   ]
  },
  {
   "cell_type": "code",
   "execution_count": 13,
   "id": "430c2518",
   "metadata": {},
   "outputs": [],
   "source": [
    "batch_size = 16\n",
    "\n",
    "train_loader = DataLoader(dataset=train_dataset,batch_size=batch_size,shuffle=True,num_workers=4)\n",
    "test_loader = DataLoader(dataset=test_dataset,batch_size=batch_size,shuffle=True,num_workers=4)"
   ]
  },
  {
   "cell_type": "code",
   "execution_count": 14,
   "id": "34857cb1",
   "metadata": {},
   "outputs": [
    {
     "name": "stderr",
     "output_type": "stream",
     "text": [
      "Epoch [1/50]: 100%|██████████| 14/14 [00:00<00:00, 38.69it/s, accuracy=0, loss=100]    \n",
      "Epoch [2/50]: 100%|██████████| 14/14 [00:00<00:00, 96.66it/s, accuracy=100, loss=0]     \n",
      "Epoch [3/50]: 100%|██████████| 14/14 [00:00<00:00, 89.71it/s, accuracy=100, loss=0]    \n",
      "Epoch [4/50]: 100%|██████████| 14/14 [00:00<00:00, 84.65it/s, accuracy=0, loss=100]   \n",
      "Epoch [5/50]: 100%|██████████| 14/14 [00:00<00:00, 83.52it/s, accuracy=0, loss=3.05]  \n",
      "Epoch [6/50]: 100%|██████████| 14/14 [00:00<00:00, 89.61it/s, accuracy=100, loss=0]   \n",
      "Epoch [7/50]: 100%|██████████| 14/14 [00:00<00:00, 86.61it/s, accuracy=100, loss=0]   \n",
      "Epoch [8/50]: 100%|██████████| 14/14 [00:00<00:00, 77.18it/s, accuracy=0, loss=100]   \n",
      "Epoch [9/50]: 100%|██████████| 14/14 [00:00<00:00, 86.64it/s, accuracy=100, loss=0.0971]\n",
      "Epoch [10/50]: 100%|██████████| 14/14 [00:00<00:00, 88.00it/s, accuracy=0, loss=100]   \n",
      "Epoch [11/50]: 100%|██████████| 14/14 [00:00<00:00, 83.00it/s, accuracy=0, loss=2.76]  \n",
      "Epoch [12/50]: 100%|██████████| 14/14 [00:00<00:00, 91.03it/s, accuracy=100, loss=0]    \n",
      "Epoch [13/50]: 100%|██████████| 14/14 [00:00<00:00, 89.15it/s, accuracy=100, loss=0.243]\n",
      "Epoch [14/50]: 100%|██████████| 14/14 [00:00<00:00, 79.13it/s, accuracy=100, loss=0.171]\n",
      "Epoch [15/50]: 100%|██████████| 14/14 [00:00<00:00, 72.61it/s, accuracy=100, loss=0]   \n",
      "Epoch [16/50]: 100%|██████████| 14/14 [00:00<00:00, 82.14it/s, accuracy=0, loss=100]   \n",
      "Epoch [17/50]: 100%|██████████| 14/14 [00:00<00:00, 86.07it/s, accuracy=100, loss=0]   \n",
      "Epoch [18/50]: 100%|██████████| 14/14 [00:00<00:00, 88.86it/s, accuracy=0, loss=100]    \n",
      "Epoch [19/50]: 100%|██████████| 14/14 [00:00<00:00, 82.16it/s, accuracy=100, loss=0]   \n",
      "Epoch [20/50]: 100%|██████████| 14/14 [00:00<00:00, 89.44it/s, accuracy=100, loss=0.0314]\n",
      "Epoch [21/50]: 100%|██████████| 14/14 [00:00<00:00, 85.02it/s, accuracy=100, loss=0.192]\n",
      "Epoch [22/50]: 100%|██████████| 14/14 [00:00<00:00, 82.42it/s, accuracy=100, loss=0]   \n",
      "Epoch [23/50]: 100%|██████████| 14/14 [00:00<00:00, 82.66it/s, accuracy=0, loss=100]   \n",
      "Epoch [24/50]: 100%|██████████| 14/14 [00:00<00:00, 100.89it/s, accuracy=0, loss=1.95]   \n",
      "Epoch [25/50]: 100%|██████████| 14/14 [00:00<00:00, 94.95it/s, accuracy=100, loss=0.0548]\n",
      "Epoch [26/50]: 100%|██████████| 14/14 [00:00<00:00, 87.16it/s, accuracy=100, loss=0]    \n",
      "Epoch [27/50]: 100%|██████████| 14/14 [00:00<00:00, 81.47it/s, accuracy=100, loss=0.0296]\n",
      "Epoch [28/50]: 100%|██████████| 14/14 [00:00<00:00, 95.96it/s, accuracy=100, loss=0.154]\n",
      "Epoch [29/50]: 100%|██████████| 14/14 [00:00<00:00, 84.38it/s, accuracy=100, loss=0]   \n",
      "Epoch [30/50]: 100%|██████████| 14/14 [00:00<00:00, 72.81it/s, accuracy=100, loss=0]   \n",
      "Epoch [31/50]: 100%|██████████| 14/14 [00:00<00:00, 85.55it/s, accuracy=100, loss=0]    \n",
      "Epoch [32/50]: 100%|██████████| 14/14 [00:00<00:00, 90.41it/s, accuracy=0, loss=100]   \n",
      "Epoch [33/50]: 100%|██████████| 14/14 [00:00<00:00, 87.14it/s, accuracy=100, loss=0.0869]\n",
      "Epoch [34/50]: 100%|██████████| 14/14 [00:00<00:00, 83.42it/s, accuracy=100, loss=0.0971]\n",
      "Epoch [35/50]: 100%|██████████| 14/14 [00:00<00:00, 74.99it/s, accuracy=100, loss=0]   \n",
      "Epoch [36/50]: 100%|██████████| 14/14 [00:00<00:00, 86.94it/s, accuracy=100, loss=0]   \n",
      "Epoch [37/50]: 100%|██████████| 14/14 [00:00<00:00, 77.61it/s, accuracy=100, loss=0.0986]\n",
      "Epoch [38/50]: 100%|██████████| 14/14 [00:00<00:00, 90.58it/s, accuracy=0, loss=100]   \n",
      "Epoch [39/50]: 100%|██████████| 14/14 [00:00<00:00, 106.02it/s, accuracy=100, loss=0]    \n",
      "Epoch [40/50]: 100%|██████████| 14/14 [00:00<00:00, 91.19it/s, accuracy=0, loss=1.57]   \n",
      "Epoch [41/50]: 100%|██████████| 14/14 [00:00<00:00, 82.50it/s, accuracy=100, loss=0]   \n",
      "Epoch [42/50]: 100%|██████████| 14/14 [00:00<00:00, 89.35it/s, accuracy=100, loss=0.113]\n",
      "Epoch [43/50]: 100%|██████████| 14/14 [00:00<00:00, 85.80it/s, accuracy=0, loss=100]   \n",
      "Epoch [44/50]: 100%|██████████| 14/14 [00:00<00:00, 90.11it/s, accuracy=100, loss=0]    \n",
      "Epoch [45/50]: 100%|██████████| 14/14 [00:00<00:00, 96.81it/s, accuracy=0, loss=100]    \n",
      "Epoch [46/50]: 100%|██████████| 14/14 [00:00<00:00, 84.09it/s, accuracy=100, loss=0.00935]\n",
      "Epoch [47/50]: 100%|██████████| 14/14 [00:00<00:00, 79.68it/s, accuracy=100, loss=0]   \n",
      "Epoch [48/50]: 100%|██████████| 14/14 [00:00<00:00, 100.39it/s, accuracy=100, loss=0]    \n",
      "Epoch [49/50]: 100%|██████████| 14/14 [00:00<00:00, 88.87it/s, accuracy=100, loss=0]     \n",
      "Epoch [50/50]: 100%|██████████| 14/14 [00:00<00:00, 88.64it/s, accuracy=100, loss=0.117]\n"
     ]
    },
    {
     "data": {
      "image/png": "[encoded data removed]",
      "text/plain": [
       "<Figure size 432x288 with 1 Axes>"
      ]
     },
     "metadata": {
      "needs_background": "light"
     },
     "output_type": "display_data"
    }
   ],
   "source": [
    "metric = torchmetrics.Accuracy()\n",
    "training_loss = []\n",
    "\n",
    "for epoch in range(num_epochs):\n",
    "    loop = tqdm(enumerate(train_loader), total=len(train_loader))\n",
    "    for batch_idx,(inputs,labels) in loop: \n",
    "        y_predicted = model(inputs)\n",
    "        y_predicted = y_predicted.reshape(-1,)\n",
    "        labels = labels.reshape(-1,)\n",
    "        loss = criterion(y_predicted,labels)\n",
    "        \n",
    "        # Backward pass\n",
    "        loss.backward()\n",
    "        \n",
    "        # Accuracy\n",
    "        acc = metric(y_predicted,labels.int())\n",
    "        loop.set_description(f\"Epoch [{epoch+1}/{num_epochs}]\")\n",
    "        loop.set_postfix(loss = loss.item(), accuracy = acc.item()*100)\n",
    "        training_loss.append(loss.item())\n",
    "        \n",
    "plt.plot(training_loss)\n",
    "plt.show()"
   ]
  },
  {
   "cell_type": "code",
   "execution_count": null,
   "id": "0d780bc7",
   "metadata": {},
   "outputs": [],
   "source": []
  }
 ],
 "metadata": {
  "kernelspec": {
   "display_name": "conda_pytorch_latest_p36",
   "language": "python",
   "name": "conda_pytorch_latest_p36"
  },
  "language_info": {
   "codemirror_mode": {
    "name": "ipython",
    "version": 3
   },
   "file_extension": ".py",
   "mimetype": "text/x-python",
   "name": "python",
   "nbconvert_exporter": "python",
   "pygments_lexer": "ipython3",
   "version": "3.6.13"
  }
 },
 "nbformat": 4,
 "nbformat_minor": 5
}
